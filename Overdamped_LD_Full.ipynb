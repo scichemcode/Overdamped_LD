{
  "cells": [
    {
      "cell_type": "markdown",
      "metadata": {
        "id": "view-in-github",
        "colab_type": "text"
      },
      "source": [
        "<a href=\"https://colab.research.google.com/github/scichemcode/Overdamped_LD/blob/main/Overdamped_LD_Full.ipynb\" target=\"_parent\"><img src=\"https://colab.research.google.com/assets/colab-badge.svg\" alt=\"Open In Colab\"/></a>"
      ]
    },
    {
      "cell_type": "markdown",
      "id": "8b0d74f5-790d-4dcb-8cb1-d1e0a4185728",
      "metadata": {
        "id": "8b0d74f5-790d-4dcb-8cb1-d1e0a4185728"
      },
      "source": [
        "### Code to generate trajectories at different barrier heights using Overdamped Langevin Dynamics"
      ]
    },
    {
      "cell_type": "markdown",
      "id": "wSOsbgxeZGFG",
      "metadata": {
        "id": "wSOsbgxeZGFG"
      },
      "source": [
        "## The potential used here is in the form\n",
        "\n",
        "# $U(x)= E_{b}[(\\frac{x}{d})^2-1]^2$\n",
        "\n",
        "## which is a potential with two minimas."
      ]
    },
    {
      "cell_type": "markdown",
      "source": [
        "Importing necessary packages"
      ],
      "metadata": {
        "id": "dUYxAMhJsSUP"
      },
      "id": "dUYxAMhJsSUP"
    },
    {
      "cell_type": "code",
      "execution_count": null,
      "id": "575faa3e-ae0d-4f96-8620-a447c980f8d4",
      "metadata": {
        "id": "575faa3e-ae0d-4f96-8620-a447c980f8d4"
      },
      "outputs": [],
      "source": [
        "import numpy as np\n",
        "import matplotlib.pyplot as plt\n",
        "import seaborn as sns\n",
        "import pandas as pd\n",
        "from sklearn.neighbors import KernelDensity"
      ]
    },
    {
      "cell_type": "markdown",
      "source": [
        "Defining functions for dedicated purposes"
      ],
      "metadata": {
        "id": "EII34Q3TsVxq"
      },
      "id": "EII34Q3TsVxq"
    },
    {
      "cell_type": "code",
      "execution_count": null,
      "id": "fe9fd95c-5d99-4b88-b156-f4775df74d96",
      "metadata": {
        "id": "fe9fd95c-5d99-4b88-b156-f4775df74d96"
      },
      "outputs": [],
      "source": [
        "def potential_x(x,eb,d):  # Calculate the potential\n",
        "  potential=eb*((x/d)**2-1)**2\n",
        "  return potential\n",
        "\n",
        "def force_x(x, eb=6, d=1):   # Calculate force for generating the trajectory\n",
        "    \"\"\"Double well force: F = -dV/dx\"\"\"\n",
        "    return -4 * eb * x * ((x/d)**2 - 1) / d**2\n",
        "\n",
        "def thermal_noise(kT, gamma,m,dt):    # Include noise for randomness\n",
        "    \"\"\"Standard deviation of Gaussian noise\"\"\"\n",
        "    return np.sqrt(2 * kT / (gamma*m)) * np.sqrt(dt)\n",
        "\n",
        "def estimate_fes(p_s,kT=0.5):  # obtain a Free Energy Surface from the simulated trajectory\n",
        "  fes=-kT*np.log(p_s)\n",
        "  return fes"
      ]
    },
    {
      "cell_type": "markdown",
      "id": "30cd23ad-2835-4373-916c-efda2b340cee",
      "metadata": {
        "id": "30cd23ad-2835-4373-916c-efda2b340cee"
      },
      "source": [
        "### We will first plot the potential to have an idea on how the barrier looks like"
      ]
    },
    {
      "cell_type": "code",
      "source": [
        "kT=0.5\n",
        "plt.figure(figsize=(10,10))\n",
        "\n",
        "height=5   # we specify the height of the needed barrier here\n",
        "\n",
        "x_analytical=np.linspace(-2,2,1000)\n",
        "\n",
        "potential=potential_x(x_analytical,eb=height*kT,d=1)\n",
        "plt.plot(x_analytical,potential,label=f\"{height}kT,kT={kT}\")\n",
        "\n",
        "plt.xlabel('Position')\n",
        "plt.ylabel('Potential')\n",
        "plt.legend(loc='upper right')"
      ],
      "metadata": {
        "id": "wEnbahpQtH32"
      },
      "id": "wEnbahpQtH32",
      "execution_count": null,
      "outputs": []
    },
    {
      "cell_type": "markdown",
      "source": [
        "#### The potential looks as shown above. There are two minimas at (-1,1) which is separated by a height specified."
      ],
      "metadata": {
        "id": "d2rDEkaxuTcJ"
      },
      "id": "d2rDEkaxuTcJ"
    },
    {
      "cell_type": "markdown",
      "source": [
        "### We as well illustrate the nature of the potential at increased barrier heights"
      ],
      "metadata": {
        "id": "lOSLfmYlturj"
      },
      "id": "lOSLfmYlturj"
    },
    {
      "cell_type": "code",
      "execution_count": null,
      "id": "aeea6bda-8768-4c5e-8b14-3cf0da7bd171",
      "metadata": {
        "id": "aeea6bda-8768-4c5e-8b14-3cf0da7bd171"
      },
      "outputs": [],
      "source": [
        "kT=0.5\n",
        "plt.figure(figsize=(10,10))\n",
        "\n",
        "x_analytical=np.linspace(-2,2,1000)\n",
        "\n",
        "eb_vals = [5,6,7,8,9,10]   # we specify a set of increasing heights\n",
        "\n",
        "plt.figure(figsize=(10, 10))  # Create the figure once\n",
        "\n",
        "for height in eb_vals:\n",
        "    potential=potential_x(x_analytical,eb=height*kT,d=1)\n",
        "    plt.plot(x_analytical,potential,label=f\"{height}kT\")\n",
        "\n",
        "plt.xlabel('Position')\n",
        "plt.ylabel('Potential')\n",
        "plt.ylim(0,30)\n",
        "plt.legend(loc='upper right')"
      ]
    },
    {
      "cell_type": "markdown",
      "id": "0829d176-94de-4dea-81fc-17af88203a58",
      "metadata": {
        "id": "0829d176-94de-4dea-81fc-17af88203a58"
      },
      "source": [
        "### A further analysis to understand the potential or the trajectories and calculate the probability distribution between the two states."
      ]
    },
    {
      "cell_type": "code",
      "execution_count": null,
      "id": "OvvghTqxYfTI",
      "metadata": {
        "id": "OvvghTqxYfTI"
      },
      "outputs": [],
      "source": [
        "plt.figure(figsize=(10,10))\n",
        "kT=0.5\n",
        "\n",
        "eb_vals = [5,6]\n",
        "\n",
        "plt.figure(figsize=(10, 10))  # Create the figure once\n",
        "\n",
        "for height in eb_vals:\n",
        "    potential=potential_x(x_analytical,eb=height*kT,d=1)\n",
        "    plt.plot(x_analytical,potential)\n",
        "    distribution=np.exp(-(1/kT)*potential)\n",
        "    distribution/=np.sum(distribution)\n",
        "    dist_scaled = distribution * (potential.max() / distribution.max())\n",
        "    plt.plot(x_analytical,dist_scaled,label=f\"{height}kT\")\n",
        "\n",
        "plt.xlabel('Position')\n",
        "plt.ylabel('Distribution')\n",
        "plt.legend(loc='upper right')"
      ]
    },
    {
      "cell_type": "markdown",
      "source": [
        "The distribution shows that the two states are equally probable which will make sense as the potential is \"symmetric\".\n",
        "As this is the analytical form of the potential being observed, post simulation the probability of visiting the two states must be different (rather more \"rare\")."
      ],
      "metadata": {
        "id": "nIrc0jPiwbqR"
      },
      "id": "nIrc0jPiwbqR"
    },
    {
      "cell_type": "markdown",
      "id": "j5v0sRDdalLd",
      "metadata": {
        "id": "j5v0sRDdalLd"
      },
      "source": [
        "## Here we simulate the particle using the Overdamped Langevin Dynamics where the position can be shown below,\n",
        "\n",
        "## $x_{j+1}=x_{j}-\\frac{\\Delta t}{m\\gamma}\\frac{dU}{dx}|_{x_{j}}+\\Delta x^{rand}$\n",
        "\n",
        "## The position is updated based on the forces calculated under the Overdamped Langevin Dynamics."
      ]
    },
    {
      "cell_type": "markdown",
      "id": "67e545e3-ede5-4633-9645-c1d9d230d08b",
      "metadata": {
        "id": "67e545e3-ede5-4633-9645-c1d9d230d08b"
      },
      "source": [
        "### This part is to run the simulation for the given number of timesteps"
      ]
    },
    {
      "cell_type": "code",
      "execution_count": null,
      "id": "TWg-DgPW3sDl",
      "metadata": {
        "id": "TWg-DgPW3sDl"
      },
      "outputs": [],
      "source": [
        "#Parameters for Overdamped LD Simulation\n",
        "\n",
        "x0 = -1\n",
        "n_steps = 100000\n",
        "x = np.zeros(n_steps)\n",
        "x[0] = x0\n",
        "kT = 0.5\n",
        "dt = 0.001\n",
        "gamma = (10**9)\n",
        "d = 1\n",
        "m=(10**-9)*kT\n",
        "saving_stride=100\n",
        "time_total = np.arange(n_steps) * dt\n",
        "noise_factor = thermal_noise(kT, gamma,m, dt)\n",
        "print_index=0\n",
        "np.random.seed(42)\n",
        "\n",
        "time_to_save = time_total[::saving_stride]"
      ]
    },
    {
      "cell_type": "code",
      "execution_count": null,
      "id": "a6e70937-a280-4c02-8565-4cc0dc1669b1",
      "metadata": {
        "collapsed": true,
        "id": "a6e70937-a280-4c02-8565-4cc0dc1669b1"
      },
      "outputs": [],
      "source": [
        "def run_simulation(x0,\n",
        "                   eb_factor,\n",
        "                   n_steps,\n",
        "                   gamma,\n",
        "                   m,\n",
        "                   dt,\n",
        "                   saving_stride,\n",
        "                   noise_factor,\n",
        "                   print_index,\n",
        "                   print_steps=False,\n",
        "                   kT=kT):\n",
        "\n",
        "  eb = eb_factor*kT\n",
        "  x = np.zeros(n_steps)\n",
        "  x[0] = x0\n",
        "  # Integration\n",
        "  for i in range(1, n_steps):\n",
        "    drift = (force_x(x[i-1], eb=eb, d=d) / (gamma * m))*dt\n",
        "    x[i] = x[i-1] + drift + (noise_factor*np.random.choice([-1,1]))\n",
        "    if print_steps:\n",
        "      if i==print_index:\n",
        "        print(f\"{i:<8}{time_total[i]:<10.3f}{x[i]:<15.3f}{force_x(x[i]):<10.3f}\")\n",
        "        print_index+=saving_stride\n",
        "\n",
        "  return x"
      ]
    },
    {
      "cell_type": "code",
      "execution_count": null,
      "id": "fWXmFns0NCvM",
      "metadata": {
        "id": "fWXmFns0NCvM"
      },
      "outputs": [],
      "source": [
        "eb_vals=[2,5,10]\n",
        "trajectory_each_eb={}\n",
        "\n",
        "for height in eb_vals:\n",
        "  x_simulation = run_simulation(x0=x0,\n",
        "                       eb_factor=height,\n",
        "                       n_steps=n_steps,\n",
        "                       gamma=gamma,\n",
        "                       m=m,\n",
        "                       dt=dt,\n",
        "                       saving_stride=saving_stride,\n",
        "                       noise_factor=noise_factor,\n",
        "                       print_index=print_index,\n",
        "                       print_steps=False)\n",
        "\n",
        "  trajectory_each_eb[height]=x_simulation"
      ]
    },
    {
      "cell_type": "code",
      "execution_count": null,
      "id": "M87dlamiOfJN",
      "metadata": {
        "id": "M87dlamiOfJN"
      },
      "outputs": [],
      "source": [
        "plt.figure(figsize=(10, 10))\n",
        "\n",
        "for height in eb_vals:\n",
        "  trajectory_eb=trajectory_each_eb[height][::saving_stride]\n",
        "  plt.plot(time_to_save,trajectory_eb,label=f\"Barrier Height = {height}kBT\")\n",
        "\n",
        "plt.xlabel('Time')\n",
        "plt.ylabel('Position')\n",
        "plt.legend(loc='upper right')"
      ]
    },
    {
      "cell_type": "markdown",
      "source": [
        "### As we observe from the time trajectories, we can see that as the barrier height increases the frequency of transitions between the two minimas decrease and at very high barrier heights, the trajectory is stuck at -1."
      ],
      "metadata": {
        "id": "CvU1rBFuOwX2"
      },
      "id": "CvU1rBFuOwX2"
    },
    {
      "cell_type": "markdown",
      "source": [
        "## Deducing the histogram of the trajectory will help understand the oscillation between the two states -1 and +1 in the simulation."
      ],
      "metadata": {
        "id": "SJhlpXtRNOeb"
      },
      "id": "SJhlpXtRNOeb"
    },
    {
      "cell_type": "code",
      "execution_count": null,
      "id": "dztiXSXCwSgP",
      "metadata": {
        "id": "dztiXSXCwSgP"
      },
      "outputs": [],
      "source": [
        "eb_vals=[2,5,10]\n",
        "plt.figure(figsize=(10, 10))  # Create the figure once\n",
        "\n",
        "for height in eb_vals:\n",
        "   trajectory_eb=trajectory_each_eb[height]\n",
        "   sns.kdeplot(trajectory_eb, label=f\"Barrier Height = {height}kBT\")\n",
        "\n",
        "\n",
        "plt.xlabel('Position')\n",
        "plt.ylabel('Probability Density')\n",
        "plt.legend(loc='upper right')\n",
        "plt.title('Position Distribution for Various Barrier Heights')"
      ]
    }
  ],
  "metadata": {
    "colab": {
      "provenance": [],
      "include_colab_link": true
    },
    "kernelspec": {
      "display_name": "Python 3 (ipykernel)",
      "language": "python",
      "name": "python3"
    },
    "language_info": {
      "codemirror_mode": {
        "name": "ipython",
        "version": 3
      },
      "file_extension": ".py",
      "mimetype": "text/x-python",
      "name": "python",
      "nbconvert_exporter": "python",
      "pygments_lexer": "ipython3",
      "version": "3.10.12"
    }
  },
  "nbformat": 4,
  "nbformat_minor": 5
}